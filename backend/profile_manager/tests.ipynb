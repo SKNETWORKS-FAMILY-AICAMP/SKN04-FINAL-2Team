{
 "cells": [
  {
   "cell_type": "markdown",
   "metadata": {},
   "source": [
    "### 테스트용 코드"
   ]
  },
  {
   "cell_type": "code",
   "execution_count": null,
   "metadata": {},
   "outputs": [],
   "source": [
    "from dotenv import load_dotenv\n",
    "load_dotenv()\n",
    "\n",
    "import os\n",
    "aws_access_key_id = os.getenv('AWS_ACCESS_KEY_ID')\n",
    "aws_secret_access_key = os.getenv('AWS_SECRET_ACCESS_KEY')\n",
    "region_name = os.getenv('AWS_REGION_NAME')"
   ]
  },
  {
   "cell_type": "code",
   "execution_count": null,
   "metadata": {},
   "outputs": [],
   "source": []
  },
  {
   "cell_type": "code",
   "execution_count": 3,
   "metadata": {},
   "outputs": [
    {
     "name": "stdout",
     "output_type": "stream",
     "text": [
      "S3 버킷의 파일 목록:\n",
      "pdf/\n",
      "pdf/pdf_resume_001_01.pdf\n",
      "pdf/pdf_resume_001_02.pdf\n",
      "pdf/pdf_resume_001_03.pdf\n",
      "pdf/pdf_resume_001_05.pdf\n",
      "pdf/pdf_resume_001_06.pdf\n",
      "pdf/pdf_resume_001_07.pdf\n",
      "pdf/pdf_resume_001_08.pdf\n",
      "pdf/pdf_resume_001_09.pdf\n",
      "pdf/pdf_resume_001_10.pdf\n",
      "pdf/pdf_resume_001_11.pdf\n",
      "pdf/pdf_resume_001_12.pdf\n",
      "pdf/pdf_resume_001_13.pdf\n",
      "pdf/pdf_resume_001_14.pdf\n",
      "pdf/pdf_resume_001_15.pdf\n",
      "pdf/pdf_resume_001_16.pdf\n",
      "pdf/pdf_resume_001_17.pdf\n",
      "pdf/pdf_resume_001_18.pdf\n",
      "pdf/pdf_resume_001_19.pdf\n",
      "pdf/pdf_resume_001_20.pdf\n",
      "pdf/pdf_resume_001_21.pdf\n",
      "pdf/pdf_resume_001_22.pdf\n",
      "pdf/pdf_resume_001_23.pdf\n",
      "pdf/pdf_resume_001_24.pdf\n",
      "pdf/pdf_resume_001_25.pdf\n",
      "pdf/pdf_resume_001_26.pdf\n",
      "pdf/pdf_resume_001_28.pdf\n",
      "pdf/pdf_resume_001_29.pdf\n",
      "pdf/pdf_resume_001_30.pdf\n",
      "pdf/pdf_resume_001_31.pdf\n",
      "pdf/pdf_resume_001_32.pdf\n",
      "pdf/pdf_resume_001_33.pdf\n",
      "pdf/pdf_resume_001_34.pdf\n",
      "pdf/pdf_resume_001_35.pdf\n",
      "pdf/pdf_resume_001_36.pdf\n",
      "txt/\n",
      "txt/resume_001_01.txt\n",
      "txt/resume_001_02.txt\n",
      "txt/resume_001_03.txt\n",
      "txt/resume_001_05.txt\n",
      "txt/resume_001_06.txt\n",
      "txt/resume_001_07.txt\n",
      "txt/resume_001_08.txt\n",
      "txt/resume_001_09.txt\n",
      "txt/resume_001_10.txt\n",
      "txt/resume_001_11.txt\n",
      "txt/resume_001_12.txt\n",
      "txt/resume_001_13.txt\n",
      "txt/resume_001_14.txt\n",
      "txt/resume_001_15.txt\n",
      "txt/resume_001_16.txt\n",
      "txt/resume_001_17.txt\n",
      "txt/resume_001_18.txt\n",
      "txt/resume_001_19.txt\n",
      "txt/resume_001_20.txt\n",
      "txt/resume_001_21.txt\n",
      "txt/resume_001_22.txt\n",
      "txt/resume_001_23.txt\n",
      "txt/resume_001_24.txt\n",
      "txt/resume_001_25.txt\n",
      "txt/resume_001_26.txt\n",
      "txt/resume_001_28.txt\n",
      "txt/resume_001_29.txt\n",
      "txt/resume_001_30.txt\n",
      "txt/resume_001_31.txt\n",
      "txt/resume_001_32.txt\n",
      "txt/resume_001_33.txt\n",
      "txt/resume_001_34.txt\n",
      "txt/resume_001_35.txt\n",
      "txt/resume_001_36.txt\n"
     ]
    }
   ],
   "source": [
    "import boto3\n",
    "\n",
    "# S3 클라이언트 생성\n",
    "s3 = boto3.client(\n",
    "    's3',\n",
    "    aws_access_key_id=aws_access_key_id,\n",
    "    aws_secret_access_key=aws_secret_access_key,\n",
    "    region_name=region_name\n",
    ")\n",
    "\n",
    "# 테스트할 S3 버킷 이름\n",
    "bucket_name = 'talentbucket01'\n",
    "\n",
    "# S3 버킷의 파일 목록 가져오기\n",
    "try:\n",
    "    response = s3.list_objects_v2(Bucket=bucket_name)\n",
    "    if 'Contents' in response:\n",
    "        print(\"S3 버킷의 파일 목록:\")\n",
    "        for obj in response['Contents']:\n",
    "            print(obj['Key'])\n",
    "    else:\n",
    "        print(\"버킷에 파일이 없습니다.\")\n",
    "except Exception as e:\n",
    "    print(f\"오류 발생: {e}\")\n"
   ]
  },
  {
   "cell_type": "code",
   "execution_count": 11,
   "metadata": {},
   "outputs": [
    {
     "name": "stdout",
     "output_type": "stream",
     "text": [
      "['txt/resume_001_01.txt', 'txt/resume_001_02.txt', 'txt/resume_001_03.txt', 'txt/resume_001_05.txt', 'txt/resume_001_06.txt', 'txt/resume_001_07.txt', 'txt/resume_001_08.txt', 'txt/resume_001_09.txt', 'txt/resume_001_10.txt', 'txt/resume_001_11.txt', 'txt/resume_001_12.txt', 'txt/resume_001_13.txt', 'txt/resume_001_14.txt', 'txt/resume_001_15.txt', 'txt/resume_001_16.txt', 'txt/resume_001_17.txt', 'txt/resume_001_18.txt', 'txt/resume_001_19.txt', 'txt/resume_001_20.txt', 'txt/resume_001_21.txt', 'txt/resume_001_22.txt', 'txt/resume_001_23.txt', 'txt/resume_001_24.txt', 'txt/resume_001_25.txt', 'txt/resume_001_26.txt', 'txt/resume_001_28.txt', 'txt/resume_001_29.txt', 'txt/resume_001_30.txt', 'txt/resume_001_31.txt', 'txt/resume_001_32.txt', 'txt/resume_001_33.txt', 'txt/resume_001_34.txt', 'txt/resume_001_35.txt', 'txt/resume_001_36.txt']\n"
     ]
    }
   ],
   "source": [
    "# S3 클라이언트 생성\n",
    "# S3 클라이언트 생성\n",
    "s3 = boto3.client(\n",
    "    's3',\n",
    "    aws_access_key_id=aws_access_key_id,\n",
    "    aws_secret_access_key=aws_secret_access_key,\n",
    "    region_name=region_name\n",
    ")\n",
    "bucket_name = 'talentbucket01'  # S3 버킷 이름\n",
    "prefix = 'txt/'  # S3 버킷 내의 폴더 경로\n",
    "\n",
    "# S3에서 이력서 파일 목록 가져오기\n",
    "response = s3.list_objects_v2(Bucket=bucket_name, Prefix=prefix)\n",
    "resume_files = [obj['Key'] for obj in response.get('Contents', []) if not obj['Key'].endswith('/')]\n",
    "\n",
    "print(resume_files)"
   ]
  },
  {
   "cell_type": "code",
   "execution_count": 2,
   "metadata": {},
   "outputs": [
    {
     "name": "stdout",
     "output_type": "stream",
     "text": [
      "PostgreSQL 데이터베이스 버전: ('PostgreSQL 16.3 on aarch64-unknown-linux-gnu, compiled by gcc (GCC) 7.3.1 20180712 (Red Hat 7.3.1-17), 64-bit',)\n",
      "PostgreSQL 연결이 종료되었습니다.\n"
     ]
    }
   ],
   "source": [
    "import psycopg2\n",
    "from dotenv import load_dotenv\n",
    "load_dotenv()\n",
    "import os\n",
    "# 데이터베이스 연결 정보\n",
    "db_host = os.getenv('DB_HOST')\n",
    "db_port = 5432\n",
    "db_name = os.getenv('DB_NAME')\n",
    "db_user = os.getenv('DB_USER')\n",
    "db_password = os.getenv('DB_PASSWORD')\n",
    "\n",
    "try:\n",
    "    # PostgreSQL 데이터베이스에 연결\n",
    "    connection = psycopg2.connect(\n",
    "        host=db_host,\n",
    "        port=db_port,\n",
    "        database=db_name,\n",
    "        user=db_user,\n",
    "        password=db_password\n",
    "    )\n",
    "    cursor = connection.cursor()\n",
    "\n",
    "    # 쿼리 실행\n",
    "    cursor.execute(\"SELECT version();\")\n",
    "    db_version = cursor.fetchone()\n",
    "    print(f\"PostgreSQL 데이터베이스 버전: {db_version}\")\n",
    "\n",
    "except Exception as error:\n",
    "    print(f\"오류 발생: {error}\")\n",
    "\n",
    "finally:\n",
    "    # 연결 종료\n",
    "    if connection:\n",
    "        cursor.close()\n",
    "        connection.close()\n",
    "        print(\"PostgreSQL 연결이 종료되었습니다.\")"
   ]
  },
  {
   "cell_type": "code",
   "execution_count": null,
   "metadata": {},
   "outputs": [],
   "source": []
  },
  {
   "cell_type": "code",
   "execution_count": null,
   "metadata": {},
   "outputs": [],
   "source": []
  }
 ],
 "metadata": {
  "kernelspec": {
   "display_name": "mdl",
   "language": "python",
   "name": "python3"
  },
  "language_info": {
   "codemirror_mode": {
    "name": "ipython",
    "version": 3
   },
   "file_extension": ".py",
   "mimetype": "text/x-python",
   "name": "python",
   "nbconvert_exporter": "python",
   "pygments_lexer": "ipython3",
   "version": "3.10.13"
  }
 },
 "nbformat": 4,
 "nbformat_minor": 2
}
